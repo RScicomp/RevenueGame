{
 "cells": [
  {
   "cell_type": "code",
   "execution_count": 5,
   "metadata": {},
   "outputs": [],
   "source": [
    "import selenium\n",
    "from Other.Scraping import *"
   ]
  },
  {
   "cell_type": "code",
   "execution_count": 2,
   "metadata": {},
   "outputs": [],
   "source": [
    "driver.get(\"http://www.randhawa.us/games/retailer/nyu.html\")"
   ]
  },
  {
   "cell_type": "markdown",
   "metadata": {},
   "source": [
    "# Define Strategy"
   ]
  },
  {
   "cell_type": "code",
   "execution_count": 3,
   "metadata": {},
   "outputs": [
    {
     "name": "stdout",
     "output_type": "stream",
     "text": [
      "============================== \n",
      "Solution Status: Optimal\n",
      "The result is: $106578.0\n",
      "Optimal Soultion:\n",
      "X_0 = 3.0\n",
      "X_1 = 9.0\n",
      "X_2 = 3.0\n",
      "X_3 = 0.0\n"
     ]
    }
   ],
   "source": [
    "\n",
    "import pulp as plp\n",
    "import numpy as np\n",
    "def optimizer(a):\n",
    "    model = plp.LpProblem(\"Retail_Game\", plp.LpMaximize)\n",
    "    I = range(4)\n",
    "    X = plp.LpVariable.dicts(name='X', indexs=(I),lowBound=0, cat=plp.LpInteger)\n",
    "    discounted_price = [60,54,48,36]\n",
    "    demand_lift = [1,1.31,1.73,2.81]\n",
    "    model += plp.lpSum(a*discounted_price[i]*demand_lift[i]*X[i] for i in I)\n",
    "    model += X[0] >= 1\n",
    "    model += plp.lpSum(a*demand_lift[i]*X[i] for i in I) <= 2000\n",
    "    model += plp.lpSum(X[i] for i in I) <= 15\n",
    "    model.solve()\n",
    "    print(\"=\"*30,\"\\nSolution Status:\", plp.LpStatus[model.status])\n",
    "\n",
    "    # Results\n",
    "    obj = plp.value(model.objective)\n",
    "    print(\"The result is: ${}\".format(obj))\n",
    "    values=[]\n",
    "    print(\"Optimal Soultion:\")\n",
    "    for v in model.variables():\n",
    "        print(v.name, \"=\", v.varValue)\n",
    "        values.append(v.varValue)\n",
    "    return(model,values)\n",
    "model,choices=optimizer(100)"
   ]
  },
  {
   "cell_type": "code",
   "execution_count": 6,
   "metadata": {},
   "outputs": [],
   "source": [
    "def click_strategy(chosenchoices,week):\n",
    "    if(week>0):\n",
    "        if(chosenchoices[week]==chosenchoices[week-1]):\n",
    "            return(0)\n",
    "        else:\n",
    "            return(chosenchoices[week])\n",
    "    return(chosenchoices[week])\n",
    "# Get data whenever\n",
    "# def richard_strategy(table,choices,chosenchoices):\n",
    "    \n",
    "#     week=max(table['Week'].astype(int))\n",
    "#     if(week > 1):\n",
    "#         prev_choice=chosenchoices[week-1]\n",
    "#         lift=(int(table['Sales'][week-1])-int(table['Sales'][week-2]))/int(table['Sales'][week-2])\n",
    "#         lastchoice=max(chosenchoices)\n",
    "#         remainingweeks=15-week\n",
    "#         canfinish=False\n",
    "#         remaining=table['Remaining'][week-1]\n",
    "#          if(remainingweeks*table['Sales'][week-1]>remaining):\n",
    "#              canfinish=True\n",
    "        \n",
    "#         if(lift<0):\n",
    "#             print(\"negative lift: \"+ str(lift))\n",
    "#             return(min(lastchoice+1,3))\n",
    "#     return(0)\n",
    "\n"
   ]
  },
  {
   "cell_type": "markdown",
   "metadata": {},
   "source": [
    "### Get Buttons"
   ]
  },
  {
   "cell_type": "code",
   "execution_count": 7,
   "metadata": {},
   "outputs": [
    {
     "data": {
      "text/plain": [
       "\"\\nmain_game_click()\\nmain_game_click()\\nmain_game_click()\\nmain_game_click()\\nmain_game_click('ten')\\nmain_game_click()\\nmain_game_click()\\nmain_game_click()\\nmain_game_click('twenty')\\nmain_game_click()\\nmain_game_click()\\nmain_game_click()\\nmain_game_click('forty')\\n\""
      ]
     },
     "execution_count": 7,
     "metadata": {},
     "output_type": "execute_result"
    }
   ],
   "source": [
    "html_source = driver.page_source\n",
    "\n",
    "# Controls\n",
    "\n",
    "\n",
    "def main_game_click(click_type=0):\n",
    "#     global click_count\n",
    "#     if click_count > 15:\n",
    "#         print('Error: cannot go over 15 weeks.')\n",
    "#         return\n",
    "    maintain = driver.find_element_by_id('maintainButton')\n",
    "    ten = driver.find_element_by_id('tenButton')\n",
    "    twenty = driver.find_element_by_id('twentyButton')\n",
    "    forty = driver.find_element_by_id('fortyButton')\n",
    "\n",
    "    if click_type == 0:\n",
    "        maintain.click()\n",
    "    if click_type == 1:\n",
    "        ten.click()\n",
    "    if click_type ==2:\n",
    "        twenty.click()\n",
    "    if click_type == 3:\n",
    "        forty.click()\n",
    "#     click_count += 1\n",
    "\n",
    "def scrape_table():\n",
    "    data=driver.find_elements_by_xpath(\"//table[contains(@id,'result-table')]\")[0].text\n",
    "    splitdata=data.split(\"\\n\")\n",
    "    columns=splitdata[0].split(\" \")\n",
    "    values_split=[]\n",
    "    for values in splitdata[1:len(splitdata)]:\n",
    "        values_split.append(values.split(\" \"))\n",
    "\n",
    "    table=pd.DataFrame(values_split)\n",
    "    table.columns=columns[0:4]\n",
    "    return(table)\n",
    "\n",
    "# def get_results(results_df, performance_df, game_id):\n",
    "#     table = driver.find_elements_by_id(\"result-table\")\n",
    "#     for row in table:\n",
    "#         for cell_number in range(1, 16):\n",
    "#             cell = row.find_elements_by_tag_name(\"tr\")[cell_number]\n",
    "#             print(cell.text)\n",
    "#             results_list = cell.text.split(' ')\n",
    "#             print(results_list)\n",
    "#             results_df = results_df.append({'Round': game_id, 'Week': results_list[0], 'Price': results_list[1], 'Sales': results_list[2],\n",
    "#                                'Remaining': results_list[3]}, ignore_index=True)\n",
    "\n",
    "#     revenue = driver.find_element_by_id(\"rev\")\n",
    "#     perfect = driver.find_element_by_id(\"perfect\")\n",
    "#     difference = driver.find_element_by_id(\"percentage\")\n",
    "#     print(f'Your revenue is: {revenue.text}')\n",
    "#     print(f'Perfect revenue is: {perfect.text}')\n",
    "#     print(f'Difference is: {difference.text}')\n",
    "#     performance_df = performance_df.append({'Round': game_id, 'Revenue': revenue.text, 'Perfect': perfect.text, 'Difference': difference.text.split(' ')[2]}, ignore_index=True)\n",
    "\n",
    "#     return results_df, performance_df\n",
    "\n",
    "# Try out controls\n",
    "'''\n",
    "main_game_click()\n",
    "main_game_click()\n",
    "main_game_click()\n",
    "main_game_click()\n",
    "main_game_click('ten')\n",
    "main_game_click()\n",
    "main_game_click()\n",
    "main_game_click()\n",
    "main_game_click('twenty')\n",
    "main_game_click()\n",
    "main_game_click()\n",
    "main_game_click()\n",
    "main_game_click('forty')\n",
    "'''\n",
    "\n"
   ]
  },
  {
   "cell_type": "markdown",
   "metadata": {},
   "source": [
    "# Tiancheng Strategy"
   ]
  },
  {
   "cell_type": "code",
   "execution_count": null,
   "metadata": {},
   "outputs": [
    {
     "name": "stdout",
     "output_type": "stream",
     "text": [
      "============================== \n",
      "Solution Status: Optimal\n",
      "The result is: $103651.92\n",
      "Optimal Soultion:\n",
      "X_0 = 3.0\n",
      "X_1 = 6.0\n",
      "X_2 = 6.0\n",
      "X_3 = 0.0\n",
      "============================== \n",
      "Solution Status: Optimal\n",
      "The result is: $110146.68000000001\n",
      "Optimal Soultion:\n",
      "X_0 = 7.0\n",
      "X_1 = 6.0\n",
      "X_2 = 2.0\n",
      "X_3 = 0.0\n",
      "============================== \n",
      "Solution Status: Optimal\n",
      "The result is: $95359.68\n",
      "Optimal Soultion:\n",
      "X_0 = 1.0\n",
      "X_1 = 0.0\n",
      "X_2 = 14.0\n",
      "X_3 = 0.0\n",
      "============================== \n",
      "Solution Status: Optimal\n",
      "The result is: $105651.84\n",
      "Optimal Soultion:\n",
      "X_0 = 3.0\n",
      "X_1 = 8.0\n",
      "X_2 = 4.0\n",
      "X_3 = 0.0\n",
      "============================== \n",
      "Solution Status: Optimal\n",
      "The result is: $72335.76000000001\n",
      "Optimal Soultion:\n",
      "X_0 = 1.0\n",
      "X_1 = 0.0\n",
      "X_2 = 0.0\n",
      "X_3 = 14.0\n",
      "============================== \n",
      "Solution Status: Optimal\n",
      "The result is: $102440.52\n",
      "Optimal Soultion:\n",
      "X_0 = 2.0\n",
      "X_1 = 6.0\n",
      "X_2 = 7.0\n",
      "X_3 = 0.0\n",
      "============================== \n",
      "Solution Status: Optimal\n",
      "The result is: $78981.48\n",
      "Optimal Soultion:\n",
      "X_0 = 1.0\n",
      "X_1 = 0.0\n",
      "X_2 = 5.0\n",
      "X_3 = 9.0\n",
      "============================== \n",
      "Solution Status: Optimal\n",
      "The result is: $101595.6\n",
      "Optimal Soultion:\n",
      "X_0 = 4.0\n",
      "X_1 = 2.0\n",
      "X_2 = 9.0\n",
      "X_3 = 0.0\n",
      "============================== \n",
      "Solution Status: Optimal\n",
      "The result is: $93051.0\n",
      "Optimal Soultion:\n",
      "X_0 = 1.0\n",
      "X_1 = 0.0\n",
      "X_2 = 13.0\n",
      "X_3 = 1.0\n"
     ]
    }
   ],
   "source": [
    "all_data=[]\n",
    "foresights=[]\n",
    "driver.find_elements_by_xpath(\"//input[contains(@id,'practiceButton')]\")[0].click()\n",
    "#choices=[[0]*15,[1]+[0]*14,[2]+[0]*14,[3]+[0]*14] # These are the strategies to scrape\n",
    "#choices=[choices[0]]\n",
    "attempts=1000\n",
    "\n",
    "for attempt in range(attempts):#choices:\n",
    "    chosenchoices=[0]\n",
    "    driver.find_elements_by_xpath(\"//input[contains(@id,'practiceButton')]\")[0].click()\n",
    "    table=scrape_table()\n",
    "    a=table['Sales'][0]\n",
    "    model,values=optimizer(int(table['Sales'][0]))\n",
    "    all_choices=[]\n",
    "    for i in range(0,len(choices)):\n",
    "        all_choices.extend([i]*int(values[i]))\n",
    "    if(len(all_choices)==14):\n",
    "        all_choices.append(all_choices[len(all_choices)-1])\n",
    "    if(len(all_choices)<15):\n",
    "        print(\"Fixed\")\n",
    "        all_choices.extend([all_choices[len(all_choices)-1]]*(15-(len(all_choices))))\n",
    "    \n",
    "    for i in range(1,15):\n",
    "        main_game_click(click_strategy(all_choices,i))\n",
    "\n",
    "    foresight=driver.find_element_by_xpath(\"//div[contains(@style,'position:relative;top:10px;left:6px;')]\").text\n",
    "    table=scrape_table()\n",
    "    table['foresight']=foresight\n",
    "    table['Choice']=all_choices\n",
    "    table['diff']=float(table['foresight'][0].split(\": \")[3].replace(\"%\",\"\"))\n",
    "    table['revenue']=float(table['foresight'][0].split(\", \")[0].split(\": \")[1].replace(\"$\",\"\").replace(\",\",\"\"))\n",
    "    table['perfect']=float(table['foresight'][0].split(\", \")[1].split(\": \")[1].replace(\"$\",\"\").replace(\",\",\"\"))\n",
    "    table['Attempt']=attempt\n",
    "    all_data.append(table)\n",
    "# print(table)"
   ]
  },
  {
   "cell_type": "code",
   "execution_count": 7,
   "metadata": {},
   "outputs": [
    {
     "ename": "NameError",
     "evalue": "name 'all_data' is not defined",
     "output_type": "error",
     "traceback": [
      "\u001b[0;31m---------------------------------------------------------------------------\u001b[0m",
      "\u001b[0;31mNameError\u001b[0m                                 Traceback (most recent call last)",
      "\u001b[0;32m<ipython-input-7-8d0e21034613>\u001b[0m in \u001b[0;36m<module>\u001b[0;34m\u001b[0m\n\u001b[0;32m----> 1\u001b[0;31m \u001b[0mall_data\u001b[0m\u001b[0;34m=\u001b[0m\u001b[0mpd\u001b[0m\u001b[0;34m.\u001b[0m\u001b[0mconcat\u001b[0m\u001b[0;34m(\u001b[0m\u001b[0mall_data\u001b[0m\u001b[0;34m)\u001b[0m\u001b[0;34m\u001b[0m\u001b[0;34m\u001b[0m\u001b[0m\n\u001b[0m\u001b[1;32m      2\u001b[0m \u001b[0mall_data\u001b[0m\u001b[0;34m.\u001b[0m\u001b[0mto_csv\u001b[0m\u001b[0;34m(\u001b[0m\u001b[0;34m\"games_tiancheng.csv\"\u001b[0m\u001b[0;34m)\u001b[0m\u001b[0;34m\u001b[0m\u001b[0;34m\u001b[0m\u001b[0m\n",
      "\u001b[0;31mNameError\u001b[0m: name 'all_data' is not defined"
     ]
    }
   ],
   "source": [
    "all_data=pd.concat(all_data)\n",
    "all_data.to_csv(\"games_tiancheng.csv\")"
   ]
  }
 ],
 "metadata": {
  "kernelspec": {
   "display_name": "Python 3.7.7 64-bit",
   "language": "python",
   "name": "python37764bit4ada4739344a444e86dc35e0d095141c"
  },
  "language_info": {
   "codemirror_mode": {
    "name": "ipython",
    "version": 3
   },
   "file_extension": ".py",
   "mimetype": "text/x-python",
   "name": "python",
   "nbconvert_exporter": "python",
   "pygments_lexer": "ipython3",
   "version": "3.7.7"
  },
  "toc": {
   "base_numbering": 1,
   "nav_menu": {},
   "number_sections": true,
   "sideBar": true,
   "skip_h1_title": false,
   "title_cell": "Table of Contents",
   "title_sidebar": "Contents",
   "toc_cell": false,
   "toc_position": {},
   "toc_section_display": true,
   "toc_window_display": false
  }
 },
 "nbformat": 4,
 "nbformat_minor": 4
}
